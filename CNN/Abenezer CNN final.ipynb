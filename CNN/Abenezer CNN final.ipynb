{
 "cells": [
  {
   "cell_type": "code",
   "execution_count": 229,
   "metadata": {},
   "outputs": [],
   "source": [
    "from keras.models import Sequential\n",
    "from keras.layers import Convolution2D\n",
    "from keras.layers import MaxPooling2D\n",
    "from keras.layers import Flatten\n",
    "from keras.layers import Dense\n",
    "from keras.preprocessing.image import ImageDataGenerator\n",
    "\n",
    "from keras.callbacks import EarlyStopping, ModelCheckpoint\n",
    "from keras.models import Sequential, load_model\n",
    "import tensorflow as tf \n",
    "import numpy as np\n",
    "import os\n"
   ]
  },
  {
   "cell_type": "code",
   "execution_count": 230,
   "metadata": {},
   "outputs": [],
   "source": [
    "%matplotlib inline\n",
    "import matplotlib \n",
    "import matplotlib.pyplot as plt \n",
    "plt.rcParams['axes.labelsize'] = 14\n",
    "plt.rcParams['xtick.labelsize'] =12\n",
    "plt.rcParams['ytick.labelsize'] = 12\n"
   ]
  },
  {
   "cell_type": "code",
   "execution_count": 251,
   "metadata": {},
   "outputs": [
    {
     "name": "stdout",
     "output_type": "stream",
     "text": [
      "Found 1464 images belonging to 20 classes.\n",
      "Found 1464 images belonging to 20 classes.\n"
     ]
    }
   ],
   "source": [
    "nbatch = 15\n",
    "\n",
    "train_datagen = ImageDataGenerator(rescale = 1./255, rotation_range=0.2, width_shift_range=0.2, \n",
    "                                   height_shift_range=0.2, zoom_range=0.52, horizontal_flip=False)\n",
    "\n",
    "test_datagen = ImageDataGenerator(rescale = 1./255)\n",
    "\n",
    "train_dir = r'C:\\Users\\abeng\\OneDrive\\Desktop\\DIP Project\\DIP Project\\DIP Project\\Dataset\\Test'\n",
    "\n",
    "test_dir = r'C:\\Users\\abeng\\OneDrive\\Desktop\\DIP Project\\DIP Project\\DIP Project\\Dataset\\Test'\n",
    "\n",
    "train_gen = train_datagen.flow_from_directory(train_dir, target_size=(28,28), batch_size=nbatch,\n",
    "                                              classes=['1','2','3','4','5','6','7','8','9','10','20','30','40','50'\n",
    "                                                      ,'60','70','80','90','100','1000'], class_mode = 'categorical')\n",
    "\n",
    "test_gen = train_datagen.flow_from_directory(test_dir, target_size=(28,28), batch_size=nbatch,\n",
    "                                              classes=['1','2','3','4','5','6','7','8','9','10','20','30','40','50'\n",
    "                                                      ,'60','70','80','90','100','1000'], class_mode = 'categorical')\n",
    "labels={1:'1',2:'2',3:'3',4:'4',5:'5',6:'6',7:'7',8:'8',9:'9',10:'10',11:'20',12:'30',13:'40',14:'50'\n",
    "                                                      ,15:'60',16:'70',17:'80',18:'90',19:'100',20:'1000'}"
   ]
  },
  {
   "cell_type": "code",
   "execution_count": null,
   "metadata": {},
   "outputs": [],
   "source": []
  },
  {
   "cell_type": "code",
   "execution_count": 252,
   "metadata": {},
   "outputs": [
    {
     "data": {
      "image/png": "[encoded data removed]",
      "text/plain": [
       "<Figure size 1224x576 with 15 Axes>"
      ]
     },
     "metadata": {
      "needs_background": "light"
     },
     "output_type": "display_data"
    }
   ],
   "source": [
    "test_imgs,test_labels= next(test_gen)\n",
    "plt.figure(figsize=(17,8))\n",
    "for i in range(nbatch):\n",
    "    plt.subplot(5,5,i+1)\n",
    "    plt.axis('off')\n",
    "    plt.imshow(test_imgs[i])\n",
    "    #print(test_labels[i])\n",
    "    #plt.title('Label: %d' %(np.argmax(test_labels[i])+1))\n",
    "    plt.title('Label: ' + labels[(np.argmax(test_labels[i])+1)])\n",
    "    plt.savefig('Labeled_image.png')"
   ]
  },
  {
   "cell_type": "code",
   "execution_count": 233,
   "metadata": {},
   "outputs": [
    {
     "data": {
      "text/plain": [
       "(15, 28, 28, 3)"
      ]
     },
     "execution_count": 233,
     "metadata": {},
     "output_type": "execute_result"
    }
   ],
   "source": [
    "test_imgs.shape"
   ]
  },
  {
   "cell_type": "code",
   "execution_count": 234,
   "metadata": {},
   "outputs": [
    {
     "data": {
      "text/plain": [
       "(15, 28, 28, 3)"
      ]
     },
     "execution_count": 234,
     "metadata": {},
     "output_type": "execute_result"
    }
   ],
   "source": [
    "train_imgs,train_labels= next(train_gen)\n",
    "train_imgs.shape"
   ]
  },
  {
   "cell_type": "code",
   "execution_count": null,
   "metadata": {},
   "outputs": [],
   "source": []
  },
  {
   "cell_type": "code",
   "execution_count": 253,
   "metadata": {},
   "outputs": [],
   "source": [
    "def build_model():\n",
    "    classifier = Sequential()\n",
    "\n",
    "    classifier.add(Convolution2D(32,(3,3),padding='same', input_shape = (28, 28, 3), activation = 'relu', data_format='channels_last'))\n",
    "    classifier.add(MaxPooling2D(pool_size = (2,2)))\n",
    "    classifier.add(Convolution2D(64,(3,3),padding='same', activation = 'relu', data_format='channels_last'))\n",
    "    classifier.add(MaxPooling2D(pool_size = (2,2)))\n",
    "    classifier.add(Flatten())\n",
    "    classifier.add(Dense(128, activation = 'relu'))\n",
    "    classifier.add(Dense(20, activation = 'softmax'))\n",
    "    return classifier "
   ]
  },
  {
   "cell_type": "code",
   "execution_count": 254,
   "metadata": {},
   "outputs": [
    {
     "name": "stdout",
     "output_type": "stream",
     "text": [
      "Model: \"sequential_7\"\n",
      "_________________________________________________________________\n",
      "Layer (type)                 Output Shape              Param #   \n",
      "=================================================================\n",
      "conv2d_13 (Conv2D)           (None, 28, 28, 32)        896       \n",
      "_________________________________________________________________\n",
      "max_pooling2d_13 (MaxPooling (None, 14, 14, 32)        0         \n",
      "_________________________________________________________________\n",
      "conv2d_14 (Conv2D)           (None, 14, 14, 64)        18496     \n",
      "_________________________________________________________________\n",
      "max_pooling2d_14 (MaxPooling (None, 7, 7, 64)          0         \n",
      "_________________________________________________________________\n",
      "flatten_7 (Flatten)          (None, 3136)              0         \n",
      "_________________________________________________________________\n",
      "dense_13 (Dense)             (None, 128)               401536    \n",
      "_________________________________________________________________\n",
      "dense_14 (Dense)             (None, 20)                2580      \n",
      "=================================================================\n",
      "Total params: 423,508\n",
      "Trainable params: 423,508\n",
      "Non-trainable params: 0\n",
      "_________________________________________________________________\n"
     ]
    }
   ],
   "source": [
    "model = build_model()\n",
    "model.summary()"
   ]
  },
  {
   "cell_type": "code",
   "execution_count": 255,
   "metadata": {},
   "outputs": [],
   "source": [
    "model.compile(optimizer = 'adam', loss = 'categorical_crossentropy', metrics = ['accuracy'])"
   ]
  },
  {
   "cell_type": "code",
   "execution_count": 256,
   "metadata": {},
   "outputs": [],
   "source": [
    "callbacks_list = [EarlyStopping(monitor='val_loss', patience=100), ModelCheckpoint(filepath='New_model.h5', monitor='val_loss',\n",
    "                                                                                  save_best_only=True)]"
   ]
  },
  {
   "cell_type": "code",
   "execution_count": 257,
   "metadata": {},
   "outputs": [
    {
     "name": "stdout",
     "output_type": "stream",
     "text": [
      "Epoch 1/100\n",
      "100/100 [==============================] - 11s 109ms/step - loss: 2.9790 - accuracy: 0.0716 - val_loss: 2.9189 - val_accuracy: 0.0762\n",
      "Epoch 2/100\n",
      "100/100 [==============================] - 3s 28ms/step - loss: 2.9096 - accuracy: 0.0880 - val_loss: 2.8330 - val_accuracy: 0.1214\n",
      "Epoch 3/100\n",
      "100/100 [==============================] - 3s 30ms/step - loss: 2.7432 - accuracy: 0.1673 - val_loss: 2.5527 - val_accuracy: 0.1952\n",
      "Epoch 4/100\n",
      "100/100 [==============================] - 3s 28ms/step - loss: 2.4097 - accuracy: 0.2590 - val_loss: 2.2517 - val_accuracy: 0.3382\n",
      "Epoch 5/100\n",
      "100/100 [==============================] - 3s 27ms/step - loss: 2.1249 - accuracy: 0.3447 - val_loss: 1.5541 - val_accuracy: 0.3905\n",
      "Epoch 6/100\n",
      "100/100 [==============================] - 3s 28ms/step - loss: 1.8957 - accuracy: 0.4032 - val_loss: 1.6389 - val_accuracy: 0.4524\n",
      "Epoch 7/100\n",
      "100/100 [==============================] - 3s 26ms/step - loss: 1.6773 - accuracy: 0.4873 - val_loss: 2.0457 - val_accuracy: 0.5048\n",
      "Epoch 8/100\n",
      "100/100 [==============================] - 3s 33ms/step - loss: 1.5787 - accuracy: 0.5007 - val_loss: 1.2280 - val_accuracy: 0.5714\n",
      "Epoch 9/100\n",
      "100/100 [==============================] - 3s 28ms/step - loss: 1.4368 - accuracy: 0.5415 - val_loss: 1.0957 - val_accuracy: 0.5857\n",
      "Epoch 10/100\n",
      "100/100 [==============================] - 3s 27ms/step - loss: 1.3305 - accuracy: 0.5773 - val_loss: 1.7360 - val_accuracy: 0.5119\n",
      "Epoch 11/100\n",
      "100/100 [==============================] - 3s 28ms/step - loss: 1.2287 - accuracy: 0.6100 - val_loss: 1.4720 - val_accuracy: 0.6329\n",
      "Epoch 12/100\n",
      "100/100 [==============================] - 3s 27ms/step - loss: 1.1753 - accuracy: 0.6359 - val_loss: 0.9034 - val_accuracy: 0.6357\n",
      "Epoch 13/100\n",
      "100/100 [==============================] - 3s 28ms/step - loss: 1.0624 - accuracy: 0.6586 - val_loss: 0.5947 - val_accuracy: 0.7214\n",
      "Epoch 14/100\n",
      "100/100 [==============================] - 3s 28ms/step - loss: 1.0681 - accuracy: 0.6815 - val_loss: 0.6909 - val_accuracy: 0.7174\n",
      "Epoch 15/100\n",
      "100/100 [==============================] - 3s 28ms/step - loss: 0.9776 - accuracy: 0.6933 - val_loss: 0.5394 - val_accuracy: 0.7357\n",
      "Epoch 16/100\n",
      "100/100 [==============================] - 3s 28ms/step - loss: 0.9711 - accuracy: 0.7056 - val_loss: 1.1824 - val_accuracy: 0.6833\n",
      "Epoch 17/100\n",
      "100/100 [==============================] - 3s 27ms/step - loss: 0.9114 - accuracy: 0.7113 - val_loss: 1.0674 - val_accuracy: 0.7238\n",
      "Epoch 18/100\n",
      "100/100 [==============================] - 3s 27ms/step - loss: 0.9208 - accuracy: 0.7055 - val_loss: 1.0111 - val_accuracy: 0.7150\n",
      "Epoch 19/100\n",
      "100/100 [==============================] - 3s 28ms/step - loss: 0.8462 - accuracy: 0.7480 - val_loss: 0.6175 - val_accuracy: 0.7690\n",
      "Epoch 20/100\n",
      "100/100 [==============================] - 3s 27ms/step - loss: 0.8025 - accuracy: 0.7367 - val_loss: 0.8321 - val_accuracy: 0.7310\n",
      "Epoch 21/100\n",
      "100/100 [==============================] - 3s 27ms/step - loss: 0.7891 - accuracy: 0.7617 - val_loss: 0.9895 - val_accuracy: 0.7971\n",
      "Epoch 22/100\n",
      "100/100 [==============================] - 3s 27ms/step - loss: 0.7803 - accuracy: 0.7510 - val_loss: 0.9336 - val_accuracy: 0.7595\n",
      "Epoch 23/100\n",
      "100/100 [==============================] - 3s 27ms/step - loss: 0.7872 - accuracy: 0.7483 - val_loss: 0.8757 - val_accuracy: 0.7619\n",
      "Epoch 24/100\n",
      "100/100 [==============================] - 3s 26ms/step - loss: 0.7153 - accuracy: 0.7697 - val_loss: 0.8511 - val_accuracy: 0.7643\n",
      "Epoch 25/100\n",
      "100/100 [==============================] - 3s 27ms/step - loss: 0.6982 - accuracy: 0.7784 - val_loss: 1.1299 - val_accuracy: 0.7899\n",
      "Epoch 26/100\n",
      "100/100 [==============================] - 3s 26ms/step - loss: 0.7304 - accuracy: 0.7655 - val_loss: 0.9556 - val_accuracy: 0.7690\n",
      "Epoch 27/100\n",
      "100/100 [==============================] - 3s 27ms/step - loss: 0.6635 - accuracy: 0.7811 - val_loss: 0.4039 - val_accuracy: 0.8262\n",
      "Epoch 28/100\n",
      "100/100 [==============================] - 3s 26ms/step - loss: 0.6373 - accuracy: 0.8059 - val_loss: 0.3426 - val_accuracy: 0.7971\n",
      "Epoch 29/100\n",
      "100/100 [==============================] - 3s 27ms/step - loss: 0.6332 - accuracy: 0.8019 - val_loss: 0.5126 - val_accuracy: 0.7905\n",
      "Epoch 30/100\n",
      "100/100 [==============================] - 3s 27ms/step - loss: 0.5567 - accuracy: 0.8260 - val_loss: 0.8506 - val_accuracy: 0.7714\n",
      "Epoch 31/100\n",
      "100/100 [==============================] - 3s 27ms/step - loss: 0.6043 - accuracy: 0.8059 - val_loss: 0.3566 - val_accuracy: 0.8190\n",
      "Epoch 32/100\n",
      "100/100 [==============================] - 3s 27ms/step - loss: 0.6834 - accuracy: 0.7805 - val_loss: 0.8821 - val_accuracy: 0.8068\n",
      "Epoch 33/100\n",
      "100/100 [==============================] - 3s 27ms/step - loss: 0.5876 - accuracy: 0.8106 - val_loss: 0.3063 - val_accuracy: 0.8405\n",
      "Epoch 34/100\n",
      "100/100 [==============================] - 3s 26ms/step - loss: 0.5582 - accuracy: 0.8240 - val_loss: 0.9802 - val_accuracy: 0.8310\n",
      "Epoch 35/100\n",
      "100/100 [==============================] - 3s 26ms/step - loss: 0.5971 - accuracy: 0.8167 - val_loss: 0.1528 - val_accuracy: 0.8792\n",
      "Epoch 36/100\n",
      "100/100 [==============================] - 3s 26ms/step - loss: 0.5624 - accuracy: 0.8206 - val_loss: 0.9720 - val_accuracy: 0.8071\n",
      "Epoch 37/100\n",
      "100/100 [==============================] - 3s 25ms/step - loss: 0.5752 - accuracy: 0.8199 - val_loss: 0.7278 - val_accuracy: 0.8095\n",
      "Epoch 38/100\n",
      "100/100 [==============================] - 3s 26ms/step - loss: 0.5346 - accuracy: 0.8286 - val_loss: 0.9821 - val_accuracy: 0.8143\n",
      "Epoch 39/100\n",
      "100/100 [==============================] - 3s 27ms/step - loss: 0.5712 - accuracy: 0.8240 - val_loss: 0.2765 - val_accuracy: 0.8309\n",
      "Epoch 40/100\n",
      "100/100 [==============================] - 3s 26ms/step - loss: 0.5481 - accuracy: 0.8287 - val_loss: 0.2920 - val_accuracy: 0.8119\n",
      "Epoch 41/100\n",
      "100/100 [==============================] - 3s 25ms/step - loss: 0.4377 - accuracy: 0.8616 - val_loss: 0.9779 - val_accuracy: 0.8452\n",
      "Epoch 42/100\n",
      "100/100 [==============================] - 3s 25ms/step - loss: 0.5451 - accuracy: 0.8206 - val_loss: 0.5444 - val_accuracy: 0.8406\n",
      "Epoch 43/100\n",
      "100/100 [==============================] - 3s 26ms/step - loss: 0.5539 - accuracy: 0.8367 - val_loss: 0.2515 - val_accuracy: 0.8119\n",
      "Epoch 44/100\n",
      "100/100 [==============================] - 2s 25ms/step - loss: 0.5106 - accuracy: 0.8380 - val_loss: 0.6361 - val_accuracy: 0.8500\n",
      "Epoch 45/100\n",
      "100/100 [==============================] - 3s 27ms/step - loss: 0.5319 - accuracy: 0.8286 - val_loss: 0.5455 - val_accuracy: 0.8690\n",
      "Epoch 46/100\n",
      "100/100 [==============================] - 3s 25ms/step - loss: 0.4805 - accuracy: 0.8527 - val_loss: 0.2482 - val_accuracy: 0.8478\n",
      "Epoch 47/100\n",
      "100/100 [==============================] - 2s 25ms/step - loss: 0.4858 - accuracy: 0.8514 - val_loss: 0.1163 - val_accuracy: 0.8571\n",
      "Epoch 48/100\n",
      "100/100 [==============================] - 2s 25ms/step - loss: 0.4726 - accuracy: 0.8447 - val_loss: 0.7820 - val_accuracy: 0.8167\n",
      "Epoch 49/100\n",
      "100/100 [==============================] - 3s 26ms/step - loss: 0.4330 - accuracy: 0.8648 - val_loss: 0.7386 - val_accuracy: 0.8647\n",
      "Epoch 50/100\n",
      "100/100 [==============================] - 3s 27ms/step - loss: 0.4504 - accuracy: 0.8641 - val_loss: 0.3704 - val_accuracy: 0.8810\n",
      "Epoch 51/100\n",
      "100/100 [==============================] - 3s 27ms/step - loss: 0.4342 - accuracy: 0.8675 - val_loss: 0.5647 - val_accuracy: 0.8810\n",
      "Epoch 52/100\n",
      "100/100 [==============================] - 3s 27ms/step - loss: 0.4351 - accuracy: 0.8635 - val_loss: 0.1440 - val_accuracy: 0.9048\n",
      "Epoch 53/100\n",
      "100/100 [==============================] - 3s 26ms/step - loss: 0.4099 - accuracy: 0.8601 - val_loss: 0.9474 - val_accuracy: 0.8478\n",
      "Epoch 54/100\n",
      "100/100 [==============================] - 3s 26ms/step - loss: 0.4382 - accuracy: 0.8681 - val_loss: 0.2028 - val_accuracy: 0.8500\n",
      "Epoch 55/100\n",
      "100/100 [==============================] - 3s 27ms/step - loss: 0.4719 - accuracy: 0.8521 - val_loss: 0.4496 - val_accuracy: 0.8500\n",
      "Epoch 56/100\n",
      "100/100 [==============================] - 3s 27ms/step - loss: 0.4372 - accuracy: 0.8562 - val_loss: 0.3546 - val_accuracy: 0.8720\n",
      "Epoch 57/100\n"
     ]
    },
    {
     "name": "stdout",
     "output_type": "stream",
     "text": [
      "100/100 [==============================] - 3s 26ms/step - loss: 0.3866 - accuracy: 0.8773 - val_loss: 0.6669 - val_accuracy: 0.8714\n",
      "Epoch 58/100\n",
      "100/100 [==============================] - 3s 26ms/step - loss: 0.4202 - accuracy: 0.8675 - val_loss: 0.6240 - val_accuracy: 0.8452\n",
      "Epoch 59/100\n",
      "100/100 [==============================] - 3s 27ms/step - loss: 0.4515 - accuracy: 0.8561 - val_loss: 0.2298 - val_accuracy: 0.8667\n",
      "Epoch 60/100\n",
      "100/100 [==============================] - 3s 27ms/step - loss: 0.3966 - accuracy: 0.8768 - val_loss: 0.2385 - val_accuracy: 0.8478\n",
      "Epoch 61/100\n",
      "100/100 [==============================] - 3s 27ms/step - loss: 0.3781 - accuracy: 0.8804 - val_loss: 0.5448 - val_accuracy: 0.8548\n",
      "Epoch 62/100\n",
      "100/100 [==============================] - 3s 27ms/step - loss: 0.4136 - accuracy: 0.8780 - val_loss: 0.3058 - val_accuracy: 0.9048\n",
      "Epoch 63/100\n",
      "100/100 [==============================] - 3s 26ms/step - loss: 0.4094 - accuracy: 0.8690 - val_loss: 0.2639 - val_accuracy: 0.8792\n",
      "Epoch 64/100\n",
      "100/100 [==============================] - 3s 27ms/step - loss: 0.4351 - accuracy: 0.8627 - val_loss: 0.5293 - val_accuracy: 0.8548\n",
      "Epoch 65/100\n",
      "100/100 [==============================] - 3s 26ms/step - loss: 0.3795 - accuracy: 0.8743 - val_loss: 0.2467 - val_accuracy: 0.8571\n",
      "Epoch 66/100\n",
      "100/100 [==============================] - 3s 26ms/step - loss: 0.3865 - accuracy: 0.8809 - val_loss: 0.0817 - val_accuracy: 0.9048\n",
      "Epoch 67/100\n",
      "100/100 [==============================] - 3s 26ms/step - loss: 0.3919 - accuracy: 0.8840 - val_loss: 0.3693 - val_accuracy: 0.8671\n",
      "Epoch 68/100\n",
      "100/100 [==============================] - 3s 26ms/step - loss: 0.3679 - accuracy: 0.8770 - val_loss: 0.6349 - val_accuracy: 0.8667\n",
      "Epoch 69/100\n",
      "100/100 [==============================] - 3s 27ms/step - loss: 0.4092 - accuracy: 0.8720 - val_loss: 0.5105 - val_accuracy: 0.9190\n",
      "Epoch 70/100\n",
      "100/100 [==============================] - 3s 28ms/step - loss: 0.3750 - accuracy: 0.8842 - val_loss: 0.4475 - val_accuracy: 0.8768\n",
      "Epoch 71/100\n",
      "100/100 [==============================] - 3s 26ms/step - loss: 0.3646 - accuracy: 0.8844 - val_loss: 0.5396 - val_accuracy: 0.8762\n",
      "Epoch 72/100\n",
      "100/100 [==============================] - 3s 26ms/step - loss: 0.3786 - accuracy: 0.8793 - val_loss: 1.0764 - val_accuracy: 0.8881\n",
      "Epoch 73/100\n",
      "100/100 [==============================] - 3s 27ms/step - loss: 0.3468 - accuracy: 0.8876 - val_loss: 0.0858 - val_accuracy: 0.9095\n",
      "Epoch 74/100\n",
      "100/100 [==============================] - 3s 26ms/step - loss: 0.3521 - accuracy: 0.8938 - val_loss: 0.7393 - val_accuracy: 0.8937\n",
      "Epoch 75/100\n",
      "100/100 [==============================] - 3s 27ms/step - loss: 0.3539 - accuracy: 0.8956 - val_loss: 0.5461 - val_accuracy: 0.8786\n",
      "Epoch 76/100\n",
      "100/100 [==============================] - 3s 27ms/step - loss: 0.3669 - accuracy: 0.8847 - val_loss: 0.1653 - val_accuracy: 0.9024\n",
      "Epoch 77/100\n",
      "100/100 [==============================] - 3s 26ms/step - loss: 0.3027 - accuracy: 0.8942 - val_loss: 0.4966 - val_accuracy: 0.8671\n",
      "Epoch 78/100\n",
      "100/100 [==============================] - 3s 27ms/step - loss: 0.3819 - accuracy: 0.8844 - val_loss: 0.1642 - val_accuracy: 0.8952\n",
      "Epoch 79/100\n",
      "100/100 [==============================] - 3s 26ms/step - loss: 0.3669 - accuracy: 0.8815 - val_loss: 0.3682 - val_accuracy: 0.8952\n",
      "Epoch 80/100\n",
      "100/100 [==============================] - 3s 26ms/step - loss: 0.2976 - accuracy: 0.9043 - val_loss: 0.5533 - val_accuracy: 0.8810\n",
      "Epoch 81/100\n",
      "100/100 [==============================] - 3s 28ms/step - loss: 0.3482 - accuracy: 0.8867 - val_loss: 0.8473 - val_accuracy: 0.8913\n",
      "Epoch 82/100\n",
      "100/100 [==============================] - 3s 26ms/step - loss: 0.3598 - accuracy: 0.8922 - val_loss: 0.3832 - val_accuracy: 0.8929\n",
      "Epoch 83/100\n",
      "100/100 [==============================] - 3s 26ms/step - loss: 0.3998 - accuracy: 0.8675 - val_loss: 0.1789 - val_accuracy: 0.8762\n",
      "Epoch 84/100\n",
      "100/100 [==============================] - 3s 26ms/step - loss: 0.2985 - accuracy: 0.9066 - val_loss: 0.1247 - val_accuracy: 0.8937\n",
      "Epoch 85/100\n",
      "100/100 [==============================] - 3s 26ms/step - loss: 0.3034 - accuracy: 0.9137 - val_loss: 0.8142 - val_accuracy: 0.9214\n",
      "Epoch 86/100\n",
      "100/100 [==============================] - 3s 27ms/step - loss: 0.3539 - accuracy: 0.8788 - val_loss: 0.3773 - val_accuracy: 0.9000\n",
      "Epoch 87/100\n",
      "100/100 [==============================] - 3s 27ms/step - loss: 0.2963 - accuracy: 0.9013 - val_loss: 0.2529 - val_accuracy: 0.8976\n",
      "Epoch 88/100\n",
      "100/100 [==============================] - 3s 28ms/step - loss: 0.3002 - accuracy: 0.9052 - val_loss: 0.0666 - val_accuracy: 0.9227\n",
      "Epoch 89/100\n",
      "100/100 [==============================] - 3s 28ms/step - loss: 0.2897 - accuracy: 0.9070 - val_loss: 0.0696 - val_accuracy: 0.9048\n",
      "Epoch 90/100\n",
      "100/100 [==============================] - 3s 25ms/step - loss: 0.3250 - accuracy: 0.8963 - val_loss: 0.3976 - val_accuracy: 0.8667\n",
      "Epoch 91/100\n",
      "100/100 [==============================] - 3s 25ms/step - loss: 0.2606 - accuracy: 0.9217 - val_loss: 0.0279 - val_accuracy: 0.9300\n",
      "Epoch 92/100\n",
      "100/100 [==============================] - 3s 26ms/step - loss: 0.3050 - accuracy: 0.9050 - val_loss: 0.0980 - val_accuracy: 0.8619\n",
      "Epoch 93/100\n",
      "100/100 [==============================] - 3s 27ms/step - loss: 0.3465 - accuracy: 0.8829 - val_loss: 0.1832 - val_accuracy: 0.8905\n",
      "Epoch 94/100\n",
      "100/100 [==============================] - 3s 26ms/step - loss: 0.3339 - accuracy: 0.8916 - val_loss: 0.1797 - val_accuracy: 0.9119\n",
      "Epoch 95/100\n",
      "100/100 [==============================] - 3s 26ms/step - loss: 0.3279 - accuracy: 0.8936 - val_loss: 0.5168 - val_accuracy: 0.9251\n",
      "Epoch 96/100\n",
      "100/100 [==============================] - 3s 26ms/step - loss: 0.3116 - accuracy: 0.8996 - val_loss: 0.4732 - val_accuracy: 0.9071\n",
      "Epoch 97/100\n",
      "100/100 [==============================] - 3s 27ms/step - loss: 0.2713 - accuracy: 0.9050 - val_loss: 0.4492 - val_accuracy: 0.9048\n",
      "Epoch 98/100\n",
      "100/100 [==============================] - 3s 27ms/step - loss: 0.2742 - accuracy: 0.9076 - val_loss: 0.0164 - val_accuracy: 0.8986\n",
      "Epoch 99/100\n",
      "100/100 [==============================] - 3s 29ms/step - loss: 0.3086 - accuracy: 0.9029 - val_loss: 0.3326 - val_accuracy: 0.9048\n",
      "Epoch 100/100\n",
      "100/100 [==============================] - 3s 30ms/step - loss: 0.2751 - accuracy: 0.9190 - val_loss: 0.0995 - val_accuracy: 0.9143\n"
     ]
    }
   ],
   "source": [
    "history = model.fit_generator(train_gen, steps_per_epoch=100, epochs=100, validation_data = test_gen, validation_steps =28,\n",
    "                                  callbacks=callbacks_list)"
   ]
  },
  {
   "cell_type": "code",
   "execution_count": 194,
   "metadata": {},
   "outputs": [
    {
     "name": "stdout",
     "output_type": "stream",
     "text": [
      "dict_keys(['val_loss', 'val_accuracy', 'loss', 'accuracy'])\n"
     ]
    }
   ],
   "source": [
    "print(history.history.keys())"
   ]
  },
  {
   "cell_type": "code",
   "execution_count": 240,
   "metadata": {},
   "outputs": [
    {
     "data": {
      "image/png": "[encoded data removed]",
      "text/plain": [
       "<Figure size 432x288 with 1 Axes>"
      ]
     },
     "metadata": {
      "needs_background": "light"
     },
     "output_type": "display_data"
    }
   ],
   "source": [
    "plt.plot(history.history['accuracy'])\n",
    "plt.title('model accuracy')\n",
    "plt.ylabel('accuracy')\n",
    "plt.xlabel('epoch')\n",
    "plt.legend(['train', 'test'], loc='upper left')\n",
    "#plt.show()\n",
    "plt.savefig('Model Accuracy.png')"
   ]
  },
  {
   "cell_type": "code",
   "execution_count": 241,
   "metadata": {},
   "outputs": [
    {
     "data": {
      "image/png": "[encoded data removed]",
      "text/plain": [
       "<Figure size 432x288 with 1 Axes>"
      ]
     },
     "metadata": {
      "needs_background": "light"
     },
     "output_type": "display_data"
    }
   ],
   "source": [
    "plt.plot(history.history['loss'])\n",
    "plt.savefig('Model Loss.png')"
   ]
  },
  {
   "cell_type": "code",
   "execution_count": 242,
   "metadata": {},
   "outputs": [
    {
     "name": "stdout",
     "output_type": "stream",
     "text": [
      "on valid data\n",
      "15/15 [==============================] - 0s 266us/step\n",
      "accuaracy 100.0\n",
      "Total loss 19.023369252681732\n"
     ]
    }
   ],
   "source": [
    "print(\"on valid data\")\n",
    "pred1=model.evaluate(test_imgs,test_labels)\n",
    "print(\"accuaracy\", str(pred1[1]*100))\n",
    "print(\"Total loss\",str(pred1[0]*100))"
   ]
  },
  {
   "cell_type": "code",
   "execution_count": 250,
   "metadata": {},
   "outputs": [
    {
     "name": "stdout",
     "output_type": "stream",
     "text": [
      "[2]\n",
      "Number: 2\n"
     ]
    }
   ],
   "source": [
    "from keras.models import load_model\n",
    "import cv2\n",
    "import numpy as np\n",
    "\n",
    "test_file = r'C:\\Users\\abeng\\OneDrive\\Desktop\\DIP Project\\DIP Project\\DIP Project\\Dataset\\samples\\4.png'\n",
    "w= cv2.imread(test_file)\n",
    "w= cv2.resize(w,(28,28))\n",
    "model = load_model('New_model.h5')\n",
    "w = np.reshape(w,[1,28,28,3])\n",
    "result = model.predict_classes(w)\n",
    "print(result+1)\n",
    "print('Number: ' + labels[(result[0]+1)])\n",
    "#plt.title('Label: ' + labels[(np.argmax(result+1))])"
   ]
  },
  {
   "cell_type": "code",
   "execution_count": 220,
   "metadata": {},
   "outputs": [
    {
     "ename": "error",
     "evalue": "OpenCV(3.4.2) C:\\Miniconda3\\conda-bld\\opencv-suite_1534379934306\\work\\modules\\imgproc\\src\\resize.cpp:4044: error: (-215:Assertion failed) !ssize.empty() in function 'cv::resize'\n",
     "output_type": "error",
     "traceback": [
      "\u001b[1;31m---------------------------------------------------------------------------\u001b[0m",
      "\u001b[1;31merror\u001b[0m                                     Traceback (most recent call last)",
      "\u001b[1;32m<ipython-input-220-dde750b38ca6>\u001b[0m in \u001b[0;36m<module>\u001b[1;34m\u001b[0m\n\u001b[0;32m      4\u001b[0m     \u001b[0mtesting_files\u001b[0m \u001b[1;33m=\u001b[0m \u001b[1;34mr'C:\\Users\\abeng\\OneDrive\\Desktop\\DIP Project\\DIP Project\\DIP Project\\Dataset\\samples/'\u001b[0m\u001b[1;33m\u001b[0m\u001b[1;33m\u001b[0m\u001b[0m\n\u001b[0;32m      5\u001b[0m     \u001b[0mq\u001b[0m \u001b[1;33m=\u001b[0m \u001b[0mcv2\u001b[0m\u001b[1;33m.\u001b[0m\u001b[0mimread\u001b[0m\u001b[1;33m(\u001b[0m\u001b[0mtesting_files\u001b[0m\u001b[1;33m+\u001b[0m\u001b[0ms\u001b[0m\u001b[1;33m)\u001b[0m\u001b[1;33m\u001b[0m\u001b[1;33m\u001b[0m\u001b[0m\n\u001b[1;32m----> 6\u001b[1;33m     \u001b[0mq\u001b[0m \u001b[1;33m=\u001b[0m \u001b[0mcv2\u001b[0m\u001b[1;33m.\u001b[0m\u001b[0mresize\u001b[0m\u001b[1;33m(\u001b[0m\u001b[0mq\u001b[0m\u001b[1;33m,\u001b[0m\u001b[1;33m(\u001b[0m\u001b[1;36m28\u001b[0m\u001b[1;33m,\u001b[0m\u001b[1;36m28\u001b[0m\u001b[1;33m)\u001b[0m\u001b[1;33m)\u001b[0m\u001b[1;33m\u001b[0m\u001b[1;33m\u001b[0m\u001b[0m\n\u001b[0m\u001b[0;32m      7\u001b[0m     \u001b[0mreshaped_q\u001b[0m \u001b[1;33m=\u001b[0m \u001b[0mnp\u001b[0m\u001b[1;33m.\u001b[0m\u001b[0mreshape\u001b[0m\u001b[1;33m(\u001b[0m\u001b[0mq\u001b[0m\u001b[1;33m,\u001b[0m\u001b[1;33m[\u001b[0m\u001b[1;36m1\u001b[0m\u001b[1;33m,\u001b[0m\u001b[1;36m28\u001b[0m\u001b[1;33m,\u001b[0m\u001b[1;36m28\u001b[0m\u001b[1;33m,\u001b[0m\u001b[1;36m3\u001b[0m\u001b[1;33m]\u001b[0m\u001b[1;33m)\u001b[0m\u001b[1;33m\u001b[0m\u001b[1;33m\u001b[0m\u001b[0m\n\u001b[0;32m      8\u001b[0m     \u001b[0mresult\u001b[0m \u001b[1;33m=\u001b[0m \u001b[0mmodel\u001b[0m\u001b[1;33m.\u001b[0m\u001b[0mpredict_classes\u001b[0m\u001b[1;33m(\u001b[0m\u001b[0mreshaped_q\u001b[0m\u001b[1;33m)\u001b[0m\u001b[1;33m\u001b[0m\u001b[1;33m\u001b[0m\u001b[0m\n",
      "\u001b[1;31merror\u001b[0m: OpenCV(3.4.2) C:\\Miniconda3\\conda-bld\\opencv-suite_1534379934306\\work\\modules\\imgproc\\src\\resize.cpp:4044: error: (-215:Assertion failed) !ssize.empty() in function 'cv::resize'\n"
     ]
    },
    {
     "data": {
      "image/png": "[encoded data removed]",
      "text/plain": [
       "<Figure size 1080x1080 with 9 Axes>"
      ]
     },
     "metadata": {
      "needs_background": "light"
     },
     "output_type": "display_data"
    }
   ],
   "source": [
    "plt.figure(figsize=(15,15))\n",
    "for i in range(1,15):\n",
    "    s = str(i) + '.PNG'\n",
    "    testing_files = r'C:\\Users\\abeng\\OneDrive\\Desktop\\DIP Project\\DIP Project\\DIP Project\\Dataset\\samples/' \n",
    "    q = cv2.imread(testing_files+s)\n",
    "    q = cv2.resize(q,(28,28))\n",
    "    reshaped_q = np.reshape(q,[1,28,28,3])\n",
    "    result = model.predict_classes(reshaped_q)\n",
    "    plt.subplot(5,5,i+1)\n",
    "    plt.axis('off')\n",
    "    plt.imshow(q)\n",
    "    #plt.title('Number: %d' %(result+1))\n",
    "    plt.title('Number: ' + labels[(result[0]+1)])"
   ]
  },
  {
   "cell_type": "code",
   "execution_count": null,
   "metadata": {},
   "outputs": [],
   "source": []
  },
  {
   "cell_type": "code",
   "execution_count": null,
   "metadata": {},
   "outputs": [],
   "source": []
  },
  {
   "cell_type": "code",
   "execution_count": null,
   "metadata": {},
   "outputs": [],
   "source": []
  },
  {
   "cell_type": "code",
   "execution_count": null,
   "metadata": {},
   "outputs": [],
   "source": []
  }
 ],
 "metadata": {
  "kernelspec": {
   "display_name": "Python 3",
   "language": "python",
   "name": "python3"
  },
  "language_info": {
   "codemirror_mode": {
    "name": "ipython",
    "version": 3
   },
   "file_extension": ".py",
   "mimetype": "text/x-python",
   "name": "python",
   "nbconvert_exporter": "python",
   "pygments_lexer": "ipython3",
   "version": "3.7.7"
  }
 },
 "nbformat": 4,
 "nbformat_minor": 2
}
